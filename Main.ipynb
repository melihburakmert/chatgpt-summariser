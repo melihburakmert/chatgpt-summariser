{
 "cells": [
  {
   "cell_type": "code",
   "execution_count": null,
   "metadata": {},
   "outputs": [],
   "source": [
    "%pip install -r requirements.txt"
   ]
  },
  {
   "cell_type": "code",
   "execution_count": 1,
   "metadata": {},
   "outputs": [],
   "source": [
    "import openai\n",
    "import recursive_summariser as RS\n",
    "import parallel_summariser as PS\n",
    "import io_utils as IO\n",
    "\n",
    "openai.api_key  = IO.open_file('openai_key.txt')"
   ]
  },
  {
   "cell_type": "code",
   "execution_count": 2,
   "metadata": {},
   "outputs": [
    {
     "data": {
      "text/plain": [
       "\"Lana Del Rey is jubilant at being on the cover of UK Rolling Stone, which she finds unbelievable. During an interview with Hannah Ewens, they discuss Del Rey's specialism (men) and she offers advice on finding a partner who doesn't believe in pressure, ignites passion, and whose look reminds her why she loves living. Del Rey admits to having a lot of ideas. She explains that she finally feels inspired again after feeling unenthusiastic for over a decade\""
      ]
     },
     "execution_count": 2,
     "metadata": {},
     "output_type": "execute_result"
    }
   ],
   "source": [
    "text = IO.open_file('example_texts/lana_del_rey_article.txt')\n",
    "RS.summarise_recursively(text)"
   ]
  },
  {
   "cell_type": "code",
   "execution_count": 3,
   "metadata": {},
   "outputs": [
    {
     "name": "stdout",
     "output_type": "stream",
     "text": [
      "Lana Del Rey discusses her career, life, and new album in an interview with Rolling Stone UK. She talks about feeling unexcited for over a decade, starting with the critical response to her debut album Born to Die. She left New York for LA to escape the negativity and started making music that was about survival and adding a bit of glamour to get through it all. She regained her enthusiasm three months ago after going to the mall with her brother. Del Rey left Instagram in 2021\n",
      "Lana Del Rey talks about her music, relationships, and new album, \"Did You Know That There’s A Tunnel Under Ocean Blvd?\" Del Rey discusses her autobiographical songs and how they come from her own experiences with contentious relationships, with songs increasingly becoming more self-possessed and full of humor about these relationships. The article also touches on Del Rey's interest in telomeres, the scientific revelations that have been happening throughout the past ten years, and the concept of the extinction of death.\n",
      "Lana Del Rey discusses being on the cover of Rolling Stone UK and gives advice on relationships, sharing a personal anecdote about a forgotten copy of William Blake's Songs of Innocence and of Experience.\n"
     ]
    }
   ],
   "source": [
    "PS.summarise_in_parallel(text)"
   ]
  }
 ],
 "metadata": {
  "kernelspec": {
   "display_name": "Python 3",
   "language": "python",
   "name": "python3"
  },
  "language_info": {
   "codemirror_mode": {
    "name": "ipython",
    "version": 3
   },
   "file_extension": ".py",
   "mimetype": "text/x-python",
   "name": "python",
   "nbconvert_exporter": "python",
   "pygments_lexer": "ipython3",
   "version": "3.9.16"
  },
  "orig_nbformat": 4
 },
 "nbformat": 4,
 "nbformat_minor": 2
}
